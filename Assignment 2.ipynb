{
 "cells": [
  {
   "cell_type": "markdown",
   "id": "4e6b7e69",
   "metadata": {},
   "source": [
    "# Task 1"
   ]
  },
  {
   "cell_type": "code",
   "execution_count": 2,
   "id": "6de40f9e",
   "metadata": {},
   "outputs": [],
   "source": [
    "text = \"hello python world\"\n",
    "newtext = text.replace(\" \",\"_\")"
   ]
  },
  {
   "cell_type": "code",
   "execution_count": 2,
   "id": "ab92547e",
   "metadata": {},
   "outputs": [
    {
     "name": "stdout",
     "output_type": "stream",
     "text": [
      "hello_python_world\n"
     ]
    }
   ],
   "source": [
    "print(newtext)"
   ]
  },
  {
   "cell_type": "code",
   "execution_count": 3,
   "id": "ce95347c",
   "metadata": {},
   "outputs": [
    {
     "name": "stdout",
     "output_type": "stream",
     "text": [
      "['hello', 'python', 'world']\n"
     ]
    }
   ],
   "source": [
    "newtext1=newtext.split(\"_\")\n",
    "print(newtext1)"
   ]
  },
  {
   "cell_type": "code",
   "execution_count": 6,
   "id": "cbe4b816",
   "metadata": {},
   "outputs": [],
   "source": [
    "newtext2= '-'.join(newtext1)"
   ]
  },
  {
   "cell_type": "code",
   "execution_count": 7,
   "id": "b9f9b625",
   "metadata": {},
   "outputs": [
    {
     "data": {
      "text/plain": [
       "'hello-python-world'"
      ]
     },
     "execution_count": 7,
     "metadata": {},
     "output_type": "execute_result"
    }
   ],
   "source": [
    "newtext2"
   ]
  },
  {
   "cell_type": "code",
   "execution_count": 8,
   "id": "5733ce77",
   "metadata": {},
   "outputs": [
    {
     "name": "stdout",
     "output_type": "stream",
     "text": [
      "hello python world\n",
      "hello_python_world\n",
      "['hello', 'python', 'world']\n",
      "hello-python-world\n"
     ]
    }
   ],
   "source": [
    "print(text)\n",
    "print(newtext)\n",
    "print(newtext1)\n",
    "print(newtext2)"
   ]
  },
  {
   "cell_type": "markdown",
   "id": "2da7bf2a",
   "metadata": {},
   "source": [
    "# Task 2"
   ]
  },
  {
   "cell_type": "code",
   "execution_count": 12,
   "id": "549f0b30",
   "metadata": {},
   "outputs": [
    {
     "data": {
      "text/plain": [
       "True"
      ]
     },
     "execution_count": 12,
     "metadata": {},
     "output_type": "execute_result"
    }
   ],
   "source": [
    "word=\"Javascript\"\n",
    "a = len(word)\n",
    "a > 5"
   ]
  },
  {
   "cell_type": "markdown",
   "id": "44d39059",
   "metadata": {},
   "source": [
    "# Task 3\n",
    "3- Check if a number is even and greater than 10. Return True/False"
   ]
  },
  {
   "cell_type": "code",
   "execution_count": 17,
   "id": "c349c1dc",
   "metadata": {},
   "outputs": [
    {
     "name": "stdout",
     "output_type": "stream",
     "text": [
      "Please enter a number: 70\n"
     ]
    },
    {
     "data": {
      "text/plain": [
       "True"
      ]
     },
     "execution_count": 17,
     "metadata": {},
     "output_type": "execute_result"
    }
   ],
   "source": [
    "num = int(input(\"Please enter a number: \"))\n",
    "(num % 2 == 0) and (num > 10)"
   ]
  },
  {
   "cell_type": "markdown",
   "id": "f0aad286",
   "metadata": {},
   "source": [
    "# Task 4\n",
    "4- Check if a number is less than 5 or greater than 20. Return True/False"
   ]
  },
  {
   "cell_type": "code",
   "execution_count": 19,
   "id": "240809fa",
   "metadata": {},
   "outputs": [
    {
     "name": "stdout",
     "output_type": "stream",
     "text": [
      "Please enter a number: 6\n"
     ]
    },
    {
     "data": {
      "text/plain": [
       "False"
      ]
     },
     "execution_count": 19,
     "metadata": {},
     "output_type": "execute_result"
    }
   ],
   "source": [
    "num1 = int(input(\"Please enter a number: \"))\n",
    "(num1 < 5) or (num1 > 20)"
   ]
  },
  {
   "cell_type": "markdown",
   "id": "0b128df7",
   "metadata": {},
   "source": [
    "# Task 5\n",
    "5- Check if a person’s age is between 18 and 65 and if they have a valid ID"
   ]
  },
  {
   "cell_type": "code",
   "execution_count": 25,
   "id": "a75292d8",
   "metadata": {},
   "outputs": [
    {
     "name": "stdout",
     "output_type": "stream",
     "text": [
      "please enter your age: 45\n"
     ]
    },
    {
     "data": {
      "text/plain": [
       "True"
      ]
     },
     "execution_count": 25,
     "metadata": {},
     "output_type": "execute_result"
    }
   ],
   "source": [
    "has_id = int(input(\"please enter your age: \"))\n",
    "(has_id >= 18) and (has_id <= 65)"
   ]
  },
  {
   "cell_type": "markdown",
   "id": "6e194fd5",
   "metadata": {},
   "source": [
    "# Task 6\n",
    "6-Write a script to check if a string starts with (http://) or (https://)\n",
    "\n",
    "url = \"https://www.example.com\""
   ]
  },
  {
   "cell_type": "code",
   "execution_count": 27,
   "id": "10343f34",
   "metadata": {},
   "outputs": [],
   "source": [
    "link = ('http://')"
   ]
  },
  {
   "cell_type": "markdown",
   "id": "07aff704",
   "metadata": {},
   "source": [
    "# Task 7\n",
    "7- Write a script that applies a 10% discount to an item's price. (Using Assignment Operator)\n"
   ]
  },
  {
   "cell_type": "code",
   "execution_count": 31,
   "id": "71aff4d0",
   "metadata": {},
   "outputs": [
    {
     "data": {
      "text/plain": [
       "90.0"
      ]
     },
     "execution_count": 31,
     "metadata": {},
     "output_type": "execute_result"
    }
   ],
   "source": [
    "price = 100\n",
    "price -= (100*0.10)\n",
    "price "
   ]
  },
  {
   "cell_type": "markdown",
   "id": "73cafe3c",
   "metadata": {},
   "source": [
    "# Task 8\n",
    "8- You are managing different customer lists for a subscription service, check if alice@example.com is our both premium and basic customer\n",
    "\n",
    "premium_customers = [\"alice@example.com\", \"charlie@example.com\", \"bob@example.com\"]\n",
    "\n",
    "basic_customers = [\"alex@example.com\", \"david@example.com\", \"chloe@example.com\"]"
   ]
  },
  {
   "cell_type": "code",
   "execution_count": 32,
   "id": "602e96ac",
   "metadata": {},
   "outputs": [],
   "source": [
    "premium_customers = [\"alice@example.com\", \"charlie@example.com\", \"bob@example.com\"]\n",
    "\n",
    "basic_customers = [\"alex@example.com\", \"david@example.com\", \"chloe@example.com\"]"
   ]
  },
  {
   "cell_type": "code",
   "execution_count": 34,
   "id": "5ca7bcda",
   "metadata": {},
   "outputs": [
    {
     "data": {
      "text/plain": [
       "False"
      ]
     },
     "execution_count": 34,
     "metadata": {},
     "output_type": "execute_result"
    }
   ],
   "source": [
    "((\"alice@exaple.com\") in premium_customers) and ((\"alice@example.com\") in basic_customers)"
   ]
  },
  {
   "cell_type": "markdown",
   "id": "9636afb7",
   "metadata": {},
   "source": [
    "# Task 9 \n",
    "Write a Python program that prompts the user to enter a password and returns True or False based on the following checks:\n",
    "Whether the string contains any uppercase characters.\n",
    "\n",
    "Whether the string contains any lowercase characters.\n",
    "\n",
    "Whether the string contains any spaces.\n",
    "\n",
    "Whether the string contains any special characters (anything other than letters, digits, and spaces).\n",
    "\n",
    "Hint: Use Input function and string methods"
   ]
  },
  {
   "cell_type": "code",
   "execution_count": 36,
   "id": "77a8409d",
   "metadata": {},
   "outputs": [
    {
     "name": "stdout",
     "output_type": "stream",
     "text": [
      "please enter a strong password: 89\n"
     ]
    }
   ],
   "source": [
    "password = input(\"please enter a strong password: \")\n",
    "\n"
   ]
  },
  {
   "cell_type": "markdown",
   "id": "d6d13d31",
   "metadata": {},
   "source": [
    "# Task 10\n",
    "10- You have a product code that follows the format \"SKU-12345-XYZ\".\n",
    "\n",
    "Find the first position of the dash (-).\n",
    "\n",
    "Count the number of dashes (-) in the product code.\n",
    "\n",
    "Remove the \"SKU-\" prefix and \"-XYZ\" suffix from the product code, Extract the numeric part 12345\n",
    "\n",
    "Hint: Use String Methods"
   ]
  },
  {
   "cell_type": "code",
   "execution_count": 37,
   "id": "abf7d581",
   "metadata": {},
   "outputs": [],
   "source": [
    "code = \"SKU-12345-XYZ\""
   ]
  },
  {
   "cell_type": "code",
   "execution_count": 41,
   "id": "bba4679b",
   "metadata": {},
   "outputs": [
    {
     "data": {
      "text/plain": [
       "3"
      ]
     },
     "execution_count": 41,
     "metadata": {},
     "output_type": "execute_result"
    }
   ],
   "source": [
    "code.find(\"-\")"
   ]
  },
  {
   "cell_type": "code",
   "execution_count": 42,
   "id": "13728d95",
   "metadata": {},
   "outputs": [
    {
     "data": {
      "text/plain": [
       "2"
      ]
     },
     "execution_count": 42,
     "metadata": {},
     "output_type": "execute_result"
    }
   ],
   "source": [
    "code.count(\"-\")"
   ]
  },
  {
   "cell_type": "code",
   "execution_count": 47,
   "id": "9d638a13",
   "metadata": {},
   "outputs": [
    {
     "data": {
      "text/plain": [
       "'12345'"
      ]
     },
     "execution_count": 47,
     "metadata": {},
     "output_type": "execute_result"
    }
   ],
   "source": [
    "a = code.removeprefix(\"SKU-\")\n",
    "a.removesuffix(\"-XYZ\")"
   ]
  },
  {
   "cell_type": "code",
   "execution_count": null,
   "id": "c9b29ef0",
   "metadata": {},
   "outputs": [],
   "source": []
  }
 ],
 "metadata": {
  "kernelspec": {
   "display_name": "Python 3 (ipykernel)",
   "language": "python",
   "name": "python3"
  },
  "language_info": {
   "codemirror_mode": {
    "name": "ipython",
    "version": 3
   },
   "file_extension": ".py",
   "mimetype": "text/x-python",
   "name": "python",
   "nbconvert_exporter": "python",
   "pygments_lexer": "ipython3",
   "version": "3.11.3"
  }
 },
 "nbformat": 4,
 "nbformat_minor": 5
}
