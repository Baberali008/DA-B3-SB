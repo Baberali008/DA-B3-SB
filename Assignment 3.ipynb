{
 "cells": [
  {
   "cell_type": "markdown",
   "id": "1f7007ac",
   "metadata": {},
   "source": [
    "Question 1: Age Group Classification\n",
    "\n",
    "Write a Python program that takes the age of a person as input and classifies them into one of the following age groups:\n",
    "\n",
    "\"Child\" if the age is between 0 and 12 (inclusive).\n",
    "\n",
    "\"Teenager\" if the age is between 13 and 19 (inclusive).\n",
    "\n",
    "\"Adult\" if the age is between 20 and 64 (inclusive).\n",
    "\n",
    "\"Senior\" if the age is 65 or older."
   ]
  },
  {
   "cell_type": "code",
   "execution_count": 10,
   "id": "6ec20540",
   "metadata": {},
   "outputs": [
    {
     "name": "stdout",
     "output_type": "stream",
     "text": [
      "Please enter your name: baber\n",
      "Please enter your age in numberical number not alphabaticaly44\n",
      "Dear baber, your age is 44,so that you are classified as Aduld\n"
     ]
    }
   ],
   "source": [
    "name = input(\"Please enter your name: \")\n",
    "age = int(input(\"Please enter your age in numberical number not alphabaticaly\"))\n",
    "if age >= 0 and age <= 12:\n",
    "    print(f\"Dear {name}, your age is {age},so that you are classified as Child\")\n",
    "elif age >= 13 and age <= 19:\n",
    "    print(f\"Dear {name}, your age is {age},so that you are classified as Teenager\")\n",
    "elif age >= 20 and age <= 64:\n",
    "    print(f\"Dear {name}, your age is {age},so that you are classified as Aduld\")\n",
    "else:\n",
    "    print(f\"Dear {name}, your age is {age},so that you are classified as Senior\")"
   ]
  },
  {
   "cell_type": "markdown",
   "id": "12e2ecbd",
   "metadata": {},
   "source": [
    "Q2. Write a Python program that asks the user to enter an email address. The program should check if the email contains the characters @ and \".\" (ignoring case). If either character is present, print \"Email format is valid.\" Otherwise, print \"Invalid email format.\""
   ]
  },
  {
   "cell_type": "code",
   "execution_count": 13,
   "id": "fa733f79",
   "metadata": {},
   "outputs": [
    {
     "name": "stdout",
     "output_type": "stream",
     "text": [
      "Dear user please enter your good name: baber\n",
      "Dear user please enter your personal email address: babarali.ch90@gmail.com\n",
      "Dear Baber, your email id is valid for registration\n"
     ]
    }
   ],
   "source": [
    "name = input(\"Dear user please enter your good name: \")\n",
    "name1 = name.capitalize()\n",
    "email = input(\"Dear user please enter your personal email address: \")\n",
    "if \"@\" and \".\" in email:\n",
    "    print (f\"Dear {name1}, your email id is valid for registration\")\n",
    "elif \"@\" and \".\" not in email:\n",
    "    print (f\"Dear {name1}, your email id is invalid for registration, Kindly use @gmail.com address for registration\")\n",
    "    "
   ]
  },
  {
   "cell_type": "markdown",
   "id": "c10d5d80",
   "metadata": {},
   "source": [
    "Q3. Write a Python program that takes three numbers as input and determines the largest among them. Also, check if any or all of the numbers are equal.\""
   ]
  },
  {
   "cell_type": "code",
   "execution_count": 19,
   "id": "3f7a2198",
   "metadata": {},
   "outputs": [
    {
     "name": "stdout",
     "output_type": "stream",
     "text": [
      "Please enter first digit: 1\n",
      "Please enter second digit: 2\n",
      "Please enter third digit: 4\n",
      "4 is grater than other two digits\n"
     ]
    }
   ],
   "source": [
    "a = int(input(\"Please enter first digit: \"))\n",
    "b = int(input(\"Please enter second digit: \"))\n",
    "c = int(input(\"Please enter third digit: \"))\n",
    "if a > b and c:\n",
    "    print(f\"{a} is grater than other two digits\")\n",
    "elif b > c and a:\n",
    "    print(f\"{b} is grater than other two diits\")\n",
    "elif c > a and b:\n",
    "    print(f\"{c} is grater than other two digits\")\n",
    "else:\n",
    "    print(f\"your three digit {a},{b},{c} are equal, Please enter diffiernt digit\")"
   ]
  },
  {
   "cell_type": "markdown",
   "id": "c8b1a38c",
   "metadata": {},
   "source": [
    "Q4. Write a Python program that:\n",
    "\n",
    "Asks the user to enter a number.\n",
    "\n",
    "Checks whether the number is positive.\n",
    "\n",
    "If yes, further check if it's even or odd.\n",
    "\n",
    "Print \"The number is positive and even\" if divisible by 2.\n",
    "\n",
    "Print \"The number is positive and odd\" if not divisible by 2.\n",
    "\n",
    "If the number is zero or negative, print \"The number is not positive\"."
   ]
  },
  {
   "cell_type": "code",
   "execution_count": 26,
   "id": "10642d52",
   "metadata": {},
   "outputs": [
    {
     "name": "stdout",
     "output_type": "stream",
     "text": [
      "Please enter a number: -6\n",
      "-6, is zero or negative integer, your enterd number is not positive\n"
     ]
    }
   ],
   "source": [
    "number = int(input(\"Please enter a number: \"))\n",
    "if number > 0:\n",
    "    print(f\"{number},is positive integer.\")\n",
    "    if number % 2 == 0:\n",
    "        print(f\"{number} is also even integer\")\n",
    "    else:\n",
    "        print(f\"{number} is also odd integer\")\n",
    "else:\n",
    "    print(f\"{number}, is zero or negative integer, your enterd number is not positive\")"
   ]
  },
  {
   "cell_type": "markdown",
   "id": "a24cff30",
   "metadata": {},
   "source": [
    "Q5. Ask the user for a username and password. Check if the username is correct. If it is, then check if the password is correct. If both are correct, print \"Access granted\".\n",
    "\n",
    "username = \"admin\"\n",
    "\n",
    "password = \"1234\""
   ]
  },
  {
   "cell_type": "code",
   "execution_count": 33,
   "id": "0b9fa81e",
   "metadata": {},
   "outputs": [
    {
     "name": "stdout",
     "output_type": "stream",
     "text": [
      "please enter your user name: admin\n",
      "please enter your password: 1234\n",
      "Access Granted\n"
     ]
    }
   ],
   "source": [
    "username = \"admin\"\n",
    "password = \"1234\"\n",
    "entered_username = input(\"please enter your user name: \")\n",
    "entered_password = input(\"please enter your password: \")\n",
    "if entered_username == username and entered_password == password:\n",
    "    print(\"Access Granted\")\n",
    "else:\n",
    "    print(\"Your entered username or password are wrong, Please contact your admin for recovey user name or password.\")"
   ]
  },
  {
   "cell_type": "markdown",
   "id": "24c004a0",
   "metadata": {},
   "source": [
    "Q6. Take an integer input from the user and check whether the entered value exists in the tuple my_tuple = (5, 10, 15, 20, 25). Print an appropriate message based on the result."
   ]
  },
  {
   "cell_type": "code",
   "execution_count": 52,
   "id": "4174c63c",
   "metadata": {},
   "outputs": [
    {
     "name": "stdout",
     "output_type": "stream",
     "text": [
      "Please enterd your roll number: 5\n",
      "Congratulation your roll number 5 is present in  list\n"
     ]
    }
   ],
   "source": [
    "roll_num_list = (5, 10, 15, 20 , 25)\n",
    "roll_num = int(input(\"Please enterd your roll number: \"))\n",
    "if roll_num in roll_num_list:\n",
    "    print(f\"Congratulation your roll number {roll_num} is present in  list\")\n",
    "else:\n",
    "    print(\"Keep hard working, better luck next time.\")"
   ]
  },
  {
   "cell_type": "markdown",
   "id": "7f94cf4f",
   "metadata": {},
   "source": [
    "Q7. Create a program that takes the user's first name, last name, and age as input, packs them into a tuple, and prints the tuple."
   ]
  },
  {
   "cell_type": "code",
   "execution_count": 56,
   "id": "2a5cdcbb",
   "metadata": {},
   "outputs": [
    {
     "name": "stdout",
     "output_type": "stream",
     "text": [
      "Please input your first name: baber\n",
      "Please input your last name: ali\n",
      "Please input your age in numbers: 23\n",
      "('baber', 'ali', '23')\n"
     ]
    }
   ],
   "source": [
    "first_name = input(\"Please input your first name: \")\n",
    "last_name = input(\"Please input your last name: \")\n",
    "age = input(\"Please input your age in numbers: \")\n",
    "# first_name , last_name , age = Info\n",
    "info = first_name, last_name, age\n",
    "print(info)"
   ]
  },
  {
   "cell_type": "markdown",
   "id": "1c259fb5",
   "metadata": {},
   "source": [
    "Q8. Given the tuple coordinates = (4, 5, 6), unpack the elements of the tuple into three variables x, y, and z. Then, calculate and print the sum of the variables."
   ]
  },
  {
   "cell_type": "code",
   "execution_count": 24,
   "id": "41ce96cb",
   "metadata": {},
   "outputs": [
    {
     "name": "stdout",
     "output_type": "stream",
     "text": [
      "Three digit are 4,5,6 and ist sum is 15\n"
     ]
    }
   ],
   "source": [
    "coordinates = (4,5,6)\n",
    "x,y,z = coordinates\n",
    "x = int(x)\n",
    "y = int(y)\n",
    "z = int(z)\n",
    "sum = x + y + z\n",
    "print(f\"Three digit are {x},{y},{z} and ist sum is {sum}\")"
   ]
  },
  {
   "cell_type": "markdown",
   "id": "aa89163e",
   "metadata": {},
   "source": [
    "Q9. Given the tuple my_tuple = (1, 2, 3, 4, 5), remove the element 3 from the tuple by first converting it to a list, and then print the resulting tuple."
   ]
  },
  {
   "cell_type": "code",
   "execution_count": 7,
   "id": "6ca85039",
   "metadata": {},
   "outputs": [
    {
     "name": "stdout",
     "output_type": "stream",
     "text": [
      "[1, 2, 3, 4, 5]\n",
      "[1, 2, 4, 5]\n"
     ]
    }
   ],
   "source": [
    "my_tuple = (1,2,3,4,5)\n",
    "my_list = list(my_tuple)\n",
    "print(my_list)\n",
    "my_list.remove(3)\n",
    "print(my_list)"
   ]
  },
  {
   "cell_type": "markdown",
   "id": "c64873a9",
   "metadata": {},
   "source": [
    "Q10. Given the tuple numbers = (10, 20, 5, 30, 15), find and print the maximum and minimum values in the tuple."
   ]
  },
  {
   "cell_type": "code",
   "execution_count": 19,
   "id": "1a5b8c6d",
   "metadata": {
    "scrolled": false
   },
   "outputs": [
    {
     "name": "stdout",
     "output_type": "stream",
     "text": [
      "30 is maximum number\n",
      "5 is minimum number\n"
     ]
    }
   ],
   "source": [
    "tuple_number =( 10,20,5,30,15)\n",
    "tuple_number_list = list(tuple_number)\n",
    "import numpy as np\n",
    "print((np.max(tuple_number_list)), \"is maximum number\")\n",
    "print((np.min(tuple_number_list)), \"is minimum number\")"
   ]
  },
  {
   "cell_type": "code",
   "execution_count": 23,
   "id": "e87672e6",
   "metadata": {},
   "outputs": [
    {
     "name": "stdout",
     "output_type": "stream",
     "text": [
      "Three digit are 4,5,6 and ist sum is 15\n"
     ]
    }
   ],
   "source": [
    "coordinates = (4,5,6)\n",
    "x,y,z = coordinates\n",
    "x = int(x)\n",
    "y = int(y)\n",
    "z = int(z)\n",
    "sum = x + y + z\n",
    "print(f\"Three digit are {x},{y},{z} and ist sum is {sum}\")"
   ]
  },
  {
   "cell_type": "code",
   "execution_count": null,
   "id": "7f54bfb1",
   "metadata": {},
   "outputs": [],
   "source": []
  }
 ],
 "metadata": {
  "kernelspec": {
   "display_name": "Python 3 (ipykernel)",
   "language": "python",
   "name": "python3"
  },
  "language_info": {
   "codemirror_mode": {
    "name": "ipython",
    "version": 3
   },
   "file_extension": ".py",
   "mimetype": "text/x-python",
   "name": "python",
   "nbconvert_exporter": "python",
   "pygments_lexer": "ipython3",
   "version": "3.11.3"
  }
 },
 "nbformat": 4,
 "nbformat_minor": 5
}
