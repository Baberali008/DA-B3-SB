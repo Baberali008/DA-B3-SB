{
 "cells": [
  {
   "cell_type": "code",
   "execution_count": 3,
   "id": "32b3ca35",
   "metadata": {},
   "outputs": [],
   "source": [
    "Student =[\"Baber\",\"Ali\",\"Waqas\",\"Javed\",\"Moin\"]"
   ]
  },
  {
   "cell_type": "code",
   "execution_count": 4,
   "id": "a332ee17",
   "metadata": {},
   "outputs": [
    {
     "name": "stdout",
     "output_type": "stream",
     "text": [
      "['Baber', 'Ali', 'Waqas', 'Javed', 'Moin', 'Shahid']\n"
     ]
    }
   ],
   "source": [
    "# Use append to new Student\n",
    "Student.append(\"Shahid\")\n",
    "print(Student)"
   ]
  },
  {
   "cell_type": "code",
   "execution_count": 7,
   "id": "4097dde1",
   "metadata": {},
   "outputs": [
    {
     "name": "stdout",
     "output_type": "stream",
     "text": [
      "['Baber', 'Ali', 'Hina', 'Waqas', 'Javed', 'Moin', 'Shahid']\n"
     ]
    }
   ],
   "source": [
    "# Use insert to add new studnts at specific index\n",
    "Student.insert(2, \"Hina\")\n",
    "print(Student)"
   ]
  },
  {
   "cell_type": "code",
   "execution_count": 8,
   "id": "ddb91e34",
   "metadata": {},
   "outputs": [
    {
     "name": "stdout",
     "output_type": "stream",
     "text": [
      "['Baber', 'Hina', 'Waqas', 'Javed', 'Moin', 'Shahid']\n"
     ]
    }
   ],
   "source": [
    "# Use remove any value by name from list\n",
    "Student.remove(\"Ali\")\n",
    "print(Student)"
   ]
  },
  {
   "cell_type": "code",
   "execution_count": 10,
   "id": "6f94ebba",
   "metadata": {},
   "outputs": [
    {
     "name": "stdout",
     "output_type": "stream",
     "text": [
      "['Baber', 'Hina', 'Waqas', 'Javed', 'Moin', 'Shahid']\n",
      "['Baber', 'Hina', 'Waqas', 'Javed', 'Moin']\n",
      "Shahid\n"
     ]
    }
   ],
   "source": [
    "# Use pop to extract last value from list and store seprate in variable\n",
    "print(Student)\n",
    "A = Student.pop()\n",
    "print(Student)\n",
    "print(A)"
   ]
  },
  {
   "cell_type": "code",
   "execution_count": null,
   "id": "3d0fa409",
   "metadata": {},
   "outputs": [],
   "source": []
  },
  {
   "cell_type": "code",
   "execution_count": null,
   "id": "4a8ae177",
   "metadata": {},
   "outputs": [],
   "source": []
  }
 ],
 "metadata": {
  "kernelspec": {
   "display_name": "Python 3 (ipykernel)",
   "language": "python",
   "name": "python3"
  },
  "language_info": {
   "codemirror_mode": {
    "name": "ipython",
    "version": 3
   },
   "file_extension": ".py",
   "mimetype": "text/x-python",
   "name": "python",
   "nbconvert_exporter": "python",
   "pygments_lexer": "ipython3",
   "version": "3.11.3"
  }
 },
 "nbformat": 4,
 "nbformat_minor": 5
}
